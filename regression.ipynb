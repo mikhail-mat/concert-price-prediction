{
 "cells": [
  {
   "cell_type": "markdown",
   "id": "7e1f1e26",
   "metadata": {},
   "source": [
    "## Linear regression on a simulated concert dataset to predict concert ticket prices "
   ]
  },
  {
   "cell_type": "markdown",
   "id": "4fac06ae",
   "metadata": {},
   "source": [
    "### Import necessary libraries and establish DB connection"
   ]
  },
  {
   "cell_type": "code",
   "execution_count": 88,
   "id": "640f2b2d",
   "metadata": {},
   "outputs": [],
   "source": [
    "import sqlite3\n",
    "import pandas as pd\n",
    "import matplotlib.pyplot as plt\n",
    "import numpy as np\n",
    "from sklearn.preprocessing import OneHotEncoder\n",
    "from sklearn.linear_model import LinearRegression, RidgeCV, Ridge\n",
    "from sklearn.preprocessing import PolynomialFeatures\n",
    "from sklearn.metrics import mean_squared_error, r2_score\n",
    "from sklearn.pipeline import make_pipeline\n",
    "from sklearn.model_selection import cross_val_score\n",
    "from sklearn.preprocessing import StandardScaler"
   ]
  },
  {
   "cell_type": "code",
   "execution_count": 89,
   "id": "002ab267",
   "metadata": {},
   "outputs": [],
   "source": [
    "db_path = 'concerts.db'\n",
    "conn = sqlite3.connect(db_path)"
   ]
  },
  {
   "cell_type": "markdown",
   "id": "6b0a2b56",
   "metadata": {},
   "source": [
    "### Query data from DB with SQL\n",
    "\n",
    "1) Create a dictionary with appropriate column names and data queried from corresponding tables of the database\n",
    "\n",
    "2) Initialise a pandas dataframe which we later populate with data from the dictionary"
   ]
  },
  {
   "cell_type": "code",
   "execution_count": 90,
   "id": "b46d51c9",
   "metadata": {},
   "outputs": [],
   "source": [
    "db_table_names = ('artist', 'customer', 'genre', 'performance', 'ticket', 'ticketpricing')\n",
    "table_df_dict = dict()\n",
    "\n",
    "for table_name in db_table_names:\n",
    "    table_df_dict[table_name] = pd.read_sql_query(f'SELECT * FROM {table_name}', conn)"
   ]
  },
  {
   "cell_type": "code",
   "execution_count": 91,
   "id": "b7de0e8c",
   "metadata": {},
   "outputs": [],
   "source": [
    "df = pd.DataFrame()"
   ]
  },
  {
   "cell_type": "markdown",
   "id": "429ba784",
   "metadata": {},
   "source": [
    "### Populate the DataFrame with data from the dictionary\n",
    "\n",
    "1) *populate_with_data()* - implementation involves merging data from different tables of the database (smaller DFs - values of the dictionary) based on the id of other columns\n",
    "2) split the df into X for features and y for label"
   ]
  },
  {
   "cell_type": "code",
   "execution_count": 92,
   "id": "fcb5895d",
   "metadata": {},
   "outputs": [],
   "source": [
    "def populate_with_data(df):\n",
    "    df['Ticket Price'] = table_df_dict['ticket']['ticketPrice']\n",
    "    df['Ticket Category'] = table_df_dict['ticket']['type']\n",
    "\n",
    "    merged_df = pd.merge(table_df_dict['artist'], table_df_dict['genre'], on='idGenre', how='left')\n",
    "    merged_df = pd.merge(table_df_dict['performance'], merged_df, on='idArtist', how='left')\n",
    "    merged_df = pd.merge(table_df_dict['ticket'], merged_df, on='idPerformance', how='left')\n",
    "\n",
    "    df['Artist'] = merged_df['name_x']\n",
    "    df['Genre'] = merged_df['genreName']\n",
    "    df['Performance Name'] = merged_df['name_y']\n",
    "    df['Performance Date'] = merged_df['date']\n",
    "\n",
    "    # df['Official Ticket Price'] = table_df_dict['ticket'].merge(\n",
    "    #     table_df_dict['ticketpricing'][['idPerformance', 'Type', 'price']],\n",
    "    #     left_on=['idPerformance', 'type'],\n",
    "    #     right_on=['idPerformance', 'Type'],\n",
    "    #     how='left'\n",
    "    # )['price']"
   ]
  },
  {
   "cell_type": "code",
   "execution_count": 93,
   "id": "19c0f47a",
   "metadata": {},
   "outputs": [
    {
     "data": {
      "text/html": [
       "<div>\n",
       "<style scoped>\n",
       "    .dataframe tbody tr th:only-of-type {\n",
       "        vertical-align: middle;\n",
       "    }\n",
       "\n",
       "    .dataframe tbody tr th {\n",
       "        vertical-align: top;\n",
       "    }\n",
       "\n",
       "    .dataframe thead th {\n",
       "        text-align: right;\n",
       "    }\n",
       "</style>\n",
       "<table border=\"1\" class=\"dataframe\">\n",
       "  <thead>\n",
       "    <tr style=\"text-align: right;\">\n",
       "      <th></th>\n",
       "      <th>Ticket Price</th>\n",
       "      <th>Ticket Category</th>\n",
       "      <th>Artist</th>\n",
       "      <th>Genre</th>\n",
       "      <th>Performance Name</th>\n",
       "      <th>Performance Date</th>\n",
       "    </tr>\n",
       "  </thead>\n",
       "  <tbody>\n",
       "    <tr>\n",
       "      <th>0</th>\n",
       "      <td>2000</td>\n",
       "      <td>A</td>\n",
       "      <td>ABX</td>\n",
       "      <td>Pop</td>\n",
       "      <td>ABBA</td>\n",
       "      <td>2025-06-18 20:30:00</td>\n",
       "    </tr>\n",
       "    <tr>\n",
       "      <th>1</th>\n",
       "      <td>900</td>\n",
       "      <td>C</td>\n",
       "      <td>Adelaire</td>\n",
       "      <td>Pop</td>\n",
       "      <td>Adele</td>\n",
       "      <td>2025-06-19 20:30:00</td>\n",
       "    </tr>\n",
       "    <tr>\n",
       "      <th>2</th>\n",
       "      <td>200</td>\n",
       "      <td>D</td>\n",
       "      <td>BamaBeats</td>\n",
       "      <td>Country</td>\n",
       "      <td>Alabama</td>\n",
       "      <td>2025-06-20 20:30:00</td>\n",
       "    </tr>\n",
       "    <tr>\n",
       "      <th>3</th>\n",
       "      <td>1000</td>\n",
       "      <td>B</td>\n",
       "      <td>ChillSync</td>\n",
       "      <td>Rock</td>\n",
       "      <td>Coldplay</td>\n",
       "      <td>2025-06-21 20:30:00</td>\n",
       "    </tr>\n",
       "    <tr>\n",
       "      <th>4</th>\n",
       "      <td>900</td>\n",
       "      <td>A</td>\n",
       "      <td>Distorto</td>\n",
       "      <td>Metal</td>\n",
       "      <td>Disturbed</td>\n",
       "      <td>2025-06-25 21:30:00</td>\n",
       "    </tr>\n",
       "  </tbody>\n",
       "</table>\n",
       "</div>"
      ],
      "text/plain": [
       "   Ticket Price Ticket Category     Artist    Genre Performance Name  \\\n",
       "0          2000               A        ABX      Pop             ABBA   \n",
       "1           900               C   Adelaire      Pop            Adele   \n",
       "2           200               D  BamaBeats  Country          Alabama   \n",
       "3          1000               B  ChillSync     Rock         Coldplay   \n",
       "4           900               A   Distorto    Metal        Disturbed   \n",
       "\n",
       "      Performance Date  \n",
       "0  2025-06-18 20:30:00  \n",
       "1  2025-06-19 20:30:00  \n",
       "2  2025-06-20 20:30:00  \n",
       "3  2025-06-21 20:30:00  \n",
       "4  2025-06-25 21:30:00  "
      ]
     },
     "execution_count": 93,
     "metadata": {},
     "output_type": "execute_result"
    }
   ],
   "source": [
    "populate_with_data(df)\n",
    "df.head()"
   ]
  },
  {
   "cell_type": "code",
   "execution_count": 94,
   "id": "b29e0598",
   "metadata": {},
   "outputs": [],
   "source": [
    "X = df.drop('Ticket Price', axis=1)\n",
    "y = df['Ticket Price']"
   ]
  },
  {
   "cell_type": "markdown",
   "id": "2588f0fc",
   "metadata": {},
   "source": [
    "### Visualise the data\n",
    "\n",
    "We can use matplotlib to visualise the relationship of each of the feature columns in X to the label column y"
   ]
  },
  {
   "cell_type": "code",
   "execution_count": 95,
   "id": "19dc71c3",
   "metadata": {},
   "outputs": [],
   "source": [
    "def visualise_data(X, y, y_pred=None):\n",
    "    for column in X:\n",
    "        plt.figure(figsize=(12, 3))\n",
    "        \n",
    "        if column in ('Artist', 'Performance Name', 'Performance Date'):\n",
    "            if column == 'Performance Date':\n",
    "                short_labels = X[column].str[6:7] + X[column].str[8:10]\n",
    "                short_labels = short_labels.astype(int).sort_values()\n",
    "            else:\n",
    "                short_labels = X[column].str[:2]\n",
    "                short_labels = short_labels.sort_values()\n",
    "            \n",
    "            x_positions = range(len(X[column]))\n",
    "            \n",
    "            plt.scatter(x_positions, y, color='red')\n",
    "            if y_pred is not None:\n",
    "                plt.scatter(x_positions, y_pred, color='blue', marker='X')\n",
    "            plt.xticks(ticks=x_positions, labels=short_labels)\n",
    "        else:\n",
    "            plt.scatter(X[column], y, color='red')\n",
    "            if y_pred is not None:\n",
    "                plt.scatter(X[column], y_pred, color='blue', marker='X')\n",
    "        \n",
    "        plt.title(f'Price in relation to {column.lower()}')\n",
    "        plt.xlabel(f'{column}')\n",
    "        plt.ylabel('Ticket Price')\n",
    "        \n",
    "        plt.show()"
   ]
  },
  {
   "cell_type": "code",
   "execution_count": 96,
   "id": "d722800c",
   "metadata": {},
   "outputs": [
    {
     "data": {
      "image/png": "[encoded data removed]",
      "text/plain": [
       "<Figure size 1200x300 with 1 Axes>"
      ]
     },
     "metadata": {},
     "output_type": "display_data"
    },
    {
     "data": {
      "image/png": "[encoded data removed]",
      "text/plain": [
       "<Figure size 1200x300 with 1 Axes>"
      ]
     },
     "metadata": {},
     "output_type": "display_data"
    },
    {
     "data": {
      "image/png": "[encoded data removed]",
      "text/plain": [
       "<Figure size 1200x300 with 1 Axes>"
      ]
     },
     "metadata": {},
     "output_type": "display_data"
    },
    {
     "data": {
      "image/png": "[encoded data removed]",
      "text/plain": [
       "<Figure size 1200x300 with 1 Axes>"
      ]
     },
     "metadata": {},
     "output_type": "display_data"
    },
    {
     "data": {
      "image/png": "[encoded data removed]",
      "text/plain": [
       "<Figure size 1200x300 with 1 Axes>"
      ]
     },
     "metadata": {},
     "output_type": "display_data"
    }
   ],
   "source": [
    "visualise_data(X, y)"
   ]
  },
  {
   "cell_type": "markdown",
   "id": "9d3b0d42",
   "metadata": {},
   "source": [
    "### Encode the Performance Date column\n",
    "\n",
    "Performance Date is represented with the date and time of the performance and looks like $i^{(1)}_{perform. date}$ = 2025-06-18 20:30:00\n",
    "\n",
    "The date is broken up into 4 parts: (year ignored as examples only contain recent data)\n",
    "- month\n",
    "- day\n",
    "- hour\n",
    "- minute\n",
    "\n",
    "Due to the cyclical nature of dates and times, for each of the features two new features are engineered with sin(x) and cos(x) to represent them as a point on a circle. This way, hour 23 is as close to 0 as 0 is to 1\n"
   ]
  },
  {
   "cell_type": "code",
   "execution_count": 97,
   "id": "d21db732",
   "metadata": {},
   "outputs": [],
   "source": [
    "def encode_date(df):\n",
    "    encd_df = df.copy()\n",
    "    encd_df['Month'] = df['Performance Date'].str[5:7].astype(int)\n",
    "    encd_df['Day'] = df['Performance Date'].str[8:10].astype(int)\n",
    "    encd_df['Hour'] = df['Performance Date'].str[11:13].astype(int)\n",
    "    encd_df['Minute'] = df['Performance Date'].str[14:16].astype(int)\n",
    "\n",
    "    date_map = {'Month': 12, 'Day': 30, 'Hour': 24, 'Minute': 60}\n",
    "\n",
    "    for column, count in date_map.items():\n",
    "        if column == 'Month' or column == 'Day':\n",
    "            adjust = 1\n",
    "        else:\n",
    "            adjust = 0\n",
    "        encd_df[f'{column} Sin'] = np.sin((encd_df[column]-adjust) * (2.*np.pi/count))\n",
    "        encd_df[f'{column} Cos'] = np.cos((encd_df[column]-adjust) * (2.*np.pi/count))\n",
    "\n",
    "    drop_cols = ['Performance Date', 'Month', 'Day', 'Hour', 'Minute']\n",
    "    encd_df = encd_df.drop(drop_cols, axis=1)\n",
    "    return encd_df"
   ]
  },
  {
   "cell_type": "markdown",
   "id": "a8d06bba",
   "metadata": {},
   "source": [
    "### One-hot-encoding for categorical data\n",
    "\n",
    "- Categorical data is encoded into separate columns with 1s or 0s for each of the unique values it can take - this is known as one-hot-encoding\n",
    "\n",
    "- In this instance we use sklearn's OneHotEncoder class"
   ]
  },
  {
   "cell_type": "code",
   "execution_count": 98,
   "id": "897fe083",
   "metadata": {},
   "outputs": [],
   "source": [
    "# one-hot encoding for ticket category, artist, genre, performance name columns\n",
    "\n",
    "def one_hot_encode_df(df, cat_cols=['Ticket Category', \n",
    "                                'Artist', 'Genre', \n",
    "                                'Performance Name']):\n",
    "    \n",
    "    one_hot_enc = OneHotEncoder(drop='first', sparse_output=False, handle_unknown='ignore')\n",
    "    ohe_array = one_hot_enc.fit_transform(df[cat_cols])\n",
    "\n",
    "    ohe_df = pd.DataFrame(\n",
    "        ohe_array,\n",
    "        columns=one_hot_enc.get_feature_names_out(cat_cols),\n",
    "        index=df.index\n",
    "    )\n",
    "\n",
    "    encd_df = df.drop(cat_cols, axis=1)\n",
    "    encd_df = pd.concat([encd_df, ohe_df], axis=1)\n",
    "    return encd_df"
   ]
  },
  {
   "cell_type": "markdown",
   "id": "45945cab",
   "metadata": {},
   "source": [
    "### Encode X and split X and y into datasets for training and testing"
   ]
  },
  {
   "cell_type": "code",
   "execution_count": 99,
   "id": "5be34137",
   "metadata": {},
   "outputs": [
    {
     "data": {
      "text/html": [
       "<div>\n",
       "<style scoped>\n",
       "    .dataframe tbody tr th:only-of-type {\n",
       "        vertical-align: middle;\n",
       "    }\n",
       "\n",
       "    .dataframe tbody tr th {\n",
       "        vertical-align: top;\n",
       "    }\n",
       "\n",
       "    .dataframe thead th {\n",
       "        text-align: right;\n",
       "    }\n",
       "</style>\n",
       "<table border=\"1\" class=\"dataframe\">\n",
       "  <thead>\n",
       "    <tr style=\"text-align: right;\">\n",
       "      <th></th>\n",
       "      <th>Month Sin</th>\n",
       "      <th>Month Cos</th>\n",
       "      <th>Day Sin</th>\n",
       "      <th>Day Cos</th>\n",
       "      <th>Hour Sin</th>\n",
       "      <th>Hour Cos</th>\n",
       "      <th>Minute Sin</th>\n",
       "      <th>Minute Cos</th>\n",
       "      <th>Ticket Category_B</th>\n",
       "      <th>Ticket Category_C</th>\n",
       "      <th>...</th>\n",
       "      <th>Genre_Rock</th>\n",
       "      <th>Performance Name_Adele</th>\n",
       "      <th>Performance Name_Alabama</th>\n",
       "      <th>Performance Name_Coldplay</th>\n",
       "      <th>Performance Name_Daft</th>\n",
       "      <th>Performance Name_Disturbed</th>\n",
       "      <th>Performance Name_Imagine</th>\n",
       "      <th>Performance Name_Metallica</th>\n",
       "      <th>Performance Name_Nirvana</th>\n",
       "      <th>Performance Name_Queen</th>\n",
       "    </tr>\n",
       "  </thead>\n",
       "  <tbody>\n",
       "    <tr>\n",
       "      <th>0</th>\n",
       "      <td>0.5</td>\n",
       "      <td>-0.866025</td>\n",
       "      <td>-0.406737</td>\n",
       "      <td>-0.913545</td>\n",
       "      <td>-0.866025</td>\n",
       "      <td>0.500000</td>\n",
       "      <td>1.224647e-16</td>\n",
       "      <td>-1.0</td>\n",
       "      <td>0.0</td>\n",
       "      <td>0.0</td>\n",
       "      <td>...</td>\n",
       "      <td>0.0</td>\n",
       "      <td>0.0</td>\n",
       "      <td>0.0</td>\n",
       "      <td>0.0</td>\n",
       "      <td>0.0</td>\n",
       "      <td>0.0</td>\n",
       "      <td>0.0</td>\n",
       "      <td>0.0</td>\n",
       "      <td>0.0</td>\n",
       "      <td>0.0</td>\n",
       "    </tr>\n",
       "    <tr>\n",
       "      <th>1</th>\n",
       "      <td>0.5</td>\n",
       "      <td>-0.866025</td>\n",
       "      <td>-0.587785</td>\n",
       "      <td>-0.809017</td>\n",
       "      <td>-0.866025</td>\n",
       "      <td>0.500000</td>\n",
       "      <td>1.224647e-16</td>\n",
       "      <td>-1.0</td>\n",
       "      <td>0.0</td>\n",
       "      <td>1.0</td>\n",
       "      <td>...</td>\n",
       "      <td>0.0</td>\n",
       "      <td>1.0</td>\n",
       "      <td>0.0</td>\n",
       "      <td>0.0</td>\n",
       "      <td>0.0</td>\n",
       "      <td>0.0</td>\n",
       "      <td>0.0</td>\n",
       "      <td>0.0</td>\n",
       "      <td>0.0</td>\n",
       "      <td>0.0</td>\n",
       "    </tr>\n",
       "    <tr>\n",
       "      <th>2</th>\n",
       "      <td>0.5</td>\n",
       "      <td>-0.866025</td>\n",
       "      <td>-0.743145</td>\n",
       "      <td>-0.669131</td>\n",
       "      <td>-0.866025</td>\n",
       "      <td>0.500000</td>\n",
       "      <td>1.224647e-16</td>\n",
       "      <td>-1.0</td>\n",
       "      <td>0.0</td>\n",
       "      <td>0.0</td>\n",
       "      <td>...</td>\n",
       "      <td>0.0</td>\n",
       "      <td>0.0</td>\n",
       "      <td>1.0</td>\n",
       "      <td>0.0</td>\n",
       "      <td>0.0</td>\n",
       "      <td>0.0</td>\n",
       "      <td>0.0</td>\n",
       "      <td>0.0</td>\n",
       "      <td>0.0</td>\n",
       "      <td>0.0</td>\n",
       "    </tr>\n",
       "    <tr>\n",
       "      <th>3</th>\n",
       "      <td>0.5</td>\n",
       "      <td>-0.866025</td>\n",
       "      <td>-0.866025</td>\n",
       "      <td>-0.500000</td>\n",
       "      <td>-0.866025</td>\n",
       "      <td>0.500000</td>\n",
       "      <td>1.224647e-16</td>\n",
       "      <td>-1.0</td>\n",
       "      <td>1.0</td>\n",
       "      <td>0.0</td>\n",
       "      <td>...</td>\n",
       "      <td>1.0</td>\n",
       "      <td>0.0</td>\n",
       "      <td>0.0</td>\n",
       "      <td>1.0</td>\n",
       "      <td>0.0</td>\n",
       "      <td>0.0</td>\n",
       "      <td>0.0</td>\n",
       "      <td>0.0</td>\n",
       "      <td>0.0</td>\n",
       "      <td>0.0</td>\n",
       "    </tr>\n",
       "    <tr>\n",
       "      <th>4</th>\n",
       "      <td>0.5</td>\n",
       "      <td>-0.866025</td>\n",
       "      <td>-0.951057</td>\n",
       "      <td>0.309017</td>\n",
       "      <td>-0.707107</td>\n",
       "      <td>0.707107</td>\n",
       "      <td>1.224647e-16</td>\n",
       "      <td>-1.0</td>\n",
       "      <td>0.0</td>\n",
       "      <td>0.0</td>\n",
       "      <td>...</td>\n",
       "      <td>0.0</td>\n",
       "      <td>0.0</td>\n",
       "      <td>0.0</td>\n",
       "      <td>0.0</td>\n",
       "      <td>0.0</td>\n",
       "      <td>1.0</td>\n",
       "      <td>0.0</td>\n",
       "      <td>0.0</td>\n",
       "      <td>0.0</td>\n",
       "      <td>0.0</td>\n",
       "    </tr>\n",
       "  </tbody>\n",
       "</table>\n",
       "<p>5 rows × 33 columns</p>\n",
       "</div>"
      ],
      "text/plain": [
       "   Month Sin  Month Cos   Day Sin   Day Cos  Hour Sin  Hour Cos    Minute Sin  \\\n",
       "0        0.5  -0.866025 -0.406737 -0.913545 -0.866025  0.500000  1.224647e-16   \n",
       "1        0.5  -0.866025 -0.587785 -0.809017 -0.866025  0.500000  1.224647e-16   \n",
       "2        0.5  -0.866025 -0.743145 -0.669131 -0.866025  0.500000  1.224647e-16   \n",
       "3        0.5  -0.866025 -0.866025 -0.500000 -0.866025  0.500000  1.224647e-16   \n",
       "4        0.5  -0.866025 -0.951057  0.309017 -0.707107  0.707107  1.224647e-16   \n",
       "\n",
       "   Minute Cos  Ticket Category_B  Ticket Category_C  ...  Genre_Rock  \\\n",
       "0        -1.0                0.0                0.0  ...         0.0   \n",
       "1        -1.0                0.0                1.0  ...         0.0   \n",
       "2        -1.0                0.0                0.0  ...         0.0   \n",
       "3        -1.0                1.0                0.0  ...         1.0   \n",
       "4        -1.0                0.0                0.0  ...         0.0   \n",
       "\n",
       "   Performance Name_Adele  Performance Name_Alabama  \\\n",
       "0                     0.0                       0.0   \n",
       "1                     1.0                       0.0   \n",
       "2                     0.0                       1.0   \n",
       "3                     0.0                       0.0   \n",
       "4                     0.0                       0.0   \n",
       "\n",
       "   Performance Name_Coldplay  Performance Name_Daft  \\\n",
       "0                        0.0                    0.0   \n",
       "1                        0.0                    0.0   \n",
       "2                        0.0                    0.0   \n",
       "3                        1.0                    0.0   \n",
       "4                        0.0                    0.0   \n",
       "\n",
       "   Performance Name_Disturbed  Performance Name_Imagine  \\\n",
       "0                         0.0                       0.0   \n",
       "1                         0.0                       0.0   \n",
       "2                         0.0                       0.0   \n",
       "3                         0.0                       0.0   \n",
       "4                         1.0                       0.0   \n",
       "\n",
       "   Performance Name_Metallica  Performance Name_Nirvana  \\\n",
       "0                         0.0                       0.0   \n",
       "1                         0.0                       0.0   \n",
       "2                         0.0                       0.0   \n",
       "3                         0.0                       0.0   \n",
       "4                         0.0                       0.0   \n",
       "\n",
       "   Performance Name_Queen  \n",
       "0                     0.0  \n",
       "1                     0.0  \n",
       "2                     0.0  \n",
       "3                     0.0  \n",
       "4                     0.0  \n",
       "\n",
       "[5 rows x 33 columns]"
      ]
     },
     "execution_count": 99,
     "metadata": {},
     "output_type": "execute_result"
    }
   ],
   "source": [
    "X_encoded = one_hot_encode_df(encode_date(X))\n",
    "X_encoded.head()"
   ]
  },
  {
   "cell_type": "code",
   "execution_count": 113,
   "id": "3f39c47b",
   "metadata": {},
   "outputs": [],
   "source": [
    "X_train = X_encoded.iloc[0:24]\n",
    "X_test = X_encoded.iloc[24:30]\n",
    "y_train = y.iloc[0:24]\n",
    "y_test = y.iloc[24:30]"
   ]
  },
  {
   "cell_type": "markdown",
   "id": "cd605ec3",
   "metadata": {},
   "source": [
    "### Use cross-validation to see performance difference in linear and polynomial regression with ridge (L2) regularization\n",
    "\n",
    "Linear model:\n",
    "- transforming the y label by taking the natural log of 1 + y makes all the predictions positive when transforming results back\n",
    "- the significant results improvement after the log transformation indicates that there is perhaps an exponential relationship in the data, and taking the log made it linear\n",
    "\n",
    "Polynomial model:\n",
    "- regularization prevents overfitting\n",
    "\n",
    "Ridge regression (regularization) reduced variance and made both models significantly better by reducing overfitting"
   ]
  },
  {
   "cell_type": "code",
   "execution_count": 120,
   "id": "fb8a939d",
   "metadata": {},
   "outputs": [],
   "source": [
    "alphas = np.logspace(-3, 3, num=100)"
   ]
  },
  {
   "cell_type": "code",
   "execution_count": null,
   "id": "dcb89c4e",
   "metadata": {},
   "outputs": [
    {
     "name": "stdout",
     "output_type": "stream",
     "text": [
      "Linear model CV R2: 0.6731486128941461\n",
      "Best lin model alpha: 0.07564633275546291\n"
     ]
    }
   ],
   "source": [
    "log_y_train = np.log1p(y_train)\n",
    "\n",
    "lin_ridge_cv_model = RidgeCV(alphas=alphas)\n",
    "lin_ridge_cv_model.fit(X_train, log_y_train)\n",
    "best_alpha = lin_ridge_cv_model.alpha_\n",
    "\n",
    "lin_model = make_pipeline(StandardScaler(), Ridge(alpha=best_alpha))\n",
    "lin_scores = cross_val_score(lin_model, X_train, log_y_train, scoring='r2', cv=5)\n",
    "lin_model.fit(X_train, log_y_train)\n",
    "\n",
    "print(f'Linear model CV R2: {lin_scores.mean()}')\n",
    "print(f'Best lin model alpha: {best_alpha}')"
   ]
  },
  {
   "cell_type": "code",
   "execution_count": 123,
   "id": "d810dd58",
   "metadata": {},
   "outputs": [
    {
     "name": "stdout",
     "output_type": "stream",
     "text": [
      "Polynomial model CV R2: 0.3847582607126915\n",
      "Best poly model alpha: 0.8111308307896873\n"
     ]
    }
   ],
   "source": [
    "poly_ridge_cv_model = RidgeCV(alphas=alphas)\n",
    "poly_ridge_cv_model.fit(X_train, y_train)\n",
    "best_alpha = poly_ridge_cv_model.alpha_\n",
    "\n",
    "poly_model = make_pipeline(\n",
    "    PolynomialFeatures(degree=2, include_bias=False), \n",
    "    StandardScaler(),\n",
    "    Ridge(alpha=best_alpha)\n",
    ")\n",
    "poly_scores = cross_val_score(poly_model, X_train, y_train, scoring='r2', cv=5)\n",
    "poly_model.fit(X_train, y_train)\n",
    "\n",
    "print(f'Polynomial model CV R2: {poly_scores.mean()}')\n",
    "print(f'Best poly model alpha: {best_alpha}')"
   ]
  },
  {
   "cell_type": "markdown",
   "id": "be00ed55",
   "metadata": {},
   "source": [
    "### Make predictions and show the difference between predicted and real values"
   ]
  },
  {
   "cell_type": "code",
   "execution_count": 125,
   "id": "4fc13146",
   "metadata": {},
   "outputs": [
    {
     "name": "stdout",
     "output_type": "stream",
     "text": [
      "Predicted price: 3776.15 -- Real price: 3500 -- Difference: 276.15\n",
      "Predicted price: 388.52 -- Real price: 300 -- Difference: 88.52\n",
      "Predicted price: 1726.30 -- Real price: 1800 -- Difference: 73.70\n",
      "Predicted price: 743.82 -- Real price: 750 -- Difference: 6.18\n",
      "Predicted price: 1438.69 -- Real price: 1500 -- Difference: 61.31\n",
      "Predicted price: 1961.14 -- Real price: 0 -- Difference: 1961.14\n"
     ]
    }
   ],
   "source": [
    "y_pred_lin = np.expm1(lin_model.predict(X_test))\n",
    "for pred, real in zip(y_pred_lin, y_test):\n",
    "    dif = np.abs(pred - real)\n",
    "    print(f'Predicted price: {pred:.2f} -- Real price: {real} -- Difference: {dif:.2f}')"
   ]
  },
  {
   "cell_type": "code",
   "execution_count": 126,
   "id": "8eef1d12",
   "metadata": {},
   "outputs": [
    {
     "name": "stdout",
     "output_type": "stream",
     "text": [
      "Predicted price: 2668.97 -- Real price: 3500 -- Difference: 831.03\n",
      "Predicted price: 533.48 -- Real price: 300 -- Difference: 233.48\n",
      "Predicted price: 1671.24 -- Real price: 1800 -- Difference: 128.76\n",
      "Predicted price: 726.02 -- Real price: 750 -- Difference: 23.98\n",
      "Predicted price: 1625.67 -- Real price: 1500 -- Difference: 125.67\n",
      "Predicted price: 1992.78 -- Real price: 0 -- Difference: 1992.78\n"
     ]
    }
   ],
   "source": [
    "y_pred_poly = poly_model.predict(X_test)\n",
    "for pred, real in zip(y_pred_poly, y_test):\n",
    "    dif = np.abs(pred - real)\n",
    "    print(f'Predicted price: {pred:.2f} -- Real price: {real} -- Difference: {dif:.2f}')"
   ]
  },
  {
   "cell_type": "markdown",
   "id": "285c69f2",
   "metadata": {},
   "source": [
    "### Evaluate both models using MSE and $R^2$ based on the test dataset"
   ]
  },
  {
   "cell_type": "code",
   "execution_count": 127,
   "id": "914b2074",
   "metadata": {},
   "outputs": [
    {
     "name": "stdout",
     "output_type": "stream",
     "text": [
      "Linear model: MSE 656568.2957984639, R2 0.5149754548043975\n",
      "Polynomial model: MSE 791538.3227138895, R2 0.41526948919714735\n"
     ]
    }
   ],
   "source": [
    "mse_lin = mean_squared_error(y_test, y_pred_lin)\n",
    "mse_poly = mean_squared_error(y_test, y_pred_poly)\n",
    "\n",
    "r2_lin = r2_score(y_test, y_pred_lin)\n",
    "r2_poly = r2_score(y_test, y_pred_poly)\n",
    "\n",
    "print(f'Linear model: MSE {mse_lin}, R2 {r2_lin}')\n",
    "print(f'Polynomial model: MSE {mse_poly}, R2 {r2_poly}')"
   ]
  }
 ],
 "metadata": {
  "kernelspec": {
   "display_name": ".venv",
   "language": "python",
   "name": "python3"
  },
  "language_info": {
   "codemirror_mode": {
    "name": "ipython",
    "version": 3
   },
   "file_extension": ".py",
   "mimetype": "text/x-python",
   "name": "python",
   "nbconvert_exporter": "python",
   "pygments_lexer": "ipython3",
   "version": "3.8.2"
  }
 },
 "nbformat": 4,
 "nbformat_minor": 5
}
