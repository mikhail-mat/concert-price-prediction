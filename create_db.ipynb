{
 "cells": [
  {
   "cell_type": "code",
   "execution_count": 47,
   "id": "640f2b2d",
   "metadata": {},
   "outputs": [],
   "source": [
    "import sqlite3"
   ]
  },
  {
   "cell_type": "code",
   "execution_count": 48,
   "id": "002ab267",
   "metadata": {},
   "outputs": [],
   "source": [
    "db_path = 'concerts.db'\n",
    "conn = sqlite3.connect(db_path)"
   ]
  },
  {
   "cell_type": "code",
   "execution_count": 49,
   "id": "938887bd",
   "metadata": {},
   "outputs": [],
   "source": [
    "import pandas as pd"
   ]
  },
  {
   "cell_type": "code",
   "execution_count": 50,
   "id": "b46d51c9",
   "metadata": {},
   "outputs": [],
   "source": [
    "db_table_names = ('artist', 'customer', 'genre', 'performance', 'ticket', 'ticketpricing')\n",
    "table_df_dict = dict()\n",
    "\n",
    "for table_name in db_table_names:\n",
    "    table_df_dict[table_name] = pd.read_sql_query(f'SELECT * FROM {table_name}', conn)"
   ]
  },
  {
   "cell_type": "code",
   "execution_count": null,
   "id": "b7de0e8c",
   "metadata": {},
   "outputs": [],
   "source": [
    "df = pd.DataFrame()\n",
    "\n",
    "df['Ticket Price'] = table_df_dict['ticket']['ticketPrice']\n",
    "df['Ticket Category'] = table_df_dict['ticket']['type']"
   ]
  },
  {
   "cell_type": "code",
   "execution_count": 52,
   "id": "9d5e5c46",
   "metadata": {},
   "outputs": [],
   "source": [
    "merged_df = pd.merge(table_df_dict['artist'], table_df_dict['genre'], on='idGenre', how='left')"
   ]
  },
  {
   "cell_type": "code",
   "execution_count": null,
   "id": "740dacdd",
   "metadata": {},
   "outputs": [],
   "source": [
    "merged_df_1 = pd.merge(table_df_dict['performance'], merged_df, on='idArtist', how='left')"
   ]
  },
  {
   "cell_type": "code",
   "execution_count": null,
   "id": "f420aba0",
   "metadata": {},
   "outputs": [],
   "source": [
    "merged_df_2 = pd.merge(table_df_dict['ticket'], merged_df_1, on='idPerformance', how='left')\n",
    "\n",
    "df['Artist'] = merged_df_2['name_x']\n",
    "df['Genre'] = merged_df_2['genreName']\n",
    "df['Performance Name'] = merged_df_2['name_y']\n",
    "df['Performance Date'] = merged_df_2['date']"
   ]
  },
  {
   "cell_type": "code",
   "execution_count": null,
   "id": "12843f4a",
   "metadata": {},
   "outputs": [
    {
     "data": {
      "text/html": [
       "<div>\n",
       "<style scoped>\n",
       "    .dataframe tbody tr th:only-of-type {\n",
       "        vertical-align: middle;\n",
       "    }\n",
       "\n",
       "    .dataframe tbody tr th {\n",
       "        vertical-align: top;\n",
       "    }\n",
       "\n",
       "    .dataframe thead th {\n",
       "        text-align: right;\n",
       "    }\n",
       "</style>\n",
       "<table border=\"1\" class=\"dataframe\">\n",
       "  <thead>\n",
       "    <tr style=\"text-align: right;\">\n",
       "      <th></th>\n",
       "      <th>Artist</th>\n",
       "      <th>Genre</th>\n",
       "      <th>Performance Name</th>\n",
       "      <th>Performance Date</th>\n",
       "      <th>Official Ticket Price</th>\n",
       "    </tr>\n",
       "  </thead>\n",
       "  <tbody>\n",
       "    <tr>\n",
       "      <th>25</th>\n",
       "      <td>Imaginix</td>\n",
       "      <td>Pop</td>\n",
       "      <td>Imagine</td>\n",
       "      <td>2025-07-04 21:00:00</td>\n",
       "      <td>300</td>\n",
       "    </tr>\n",
       "    <tr>\n",
       "      <th>26</th>\n",
       "      <td>Nirvex</td>\n",
       "      <td>Rock</td>\n",
       "      <td>Nirvana</td>\n",
       "      <td>2025-07-05 21:30:00</td>\n",
       "      <td>1800</td>\n",
       "    </tr>\n",
       "    <tr>\n",
       "      <th>27</th>\n",
       "      <td>Imaginix</td>\n",
       "      <td>Pop</td>\n",
       "      <td>Imagine</td>\n",
       "      <td>2025-07-04 21:00:00</td>\n",
       "      <td>750</td>\n",
       "    </tr>\n",
       "    <tr>\n",
       "      <th>28</th>\n",
       "      <td>Adelaire</td>\n",
       "      <td>Pop</td>\n",
       "      <td>Adele</td>\n",
       "      <td>2025-06-19 20:30:00</td>\n",
       "      <td>1500</td>\n",
       "    </tr>\n",
       "    <tr>\n",
       "      <th>29</th>\n",
       "      <td>ABX</td>\n",
       "      <td>Pop</td>\n",
       "      <td>ABBA</td>\n",
       "      <td>2025-06-18 20:30:00</td>\n",
       "      <td>2000</td>\n",
       "    </tr>\n",
       "  </tbody>\n",
       "</table>\n",
       "</div>"
      ],
      "text/plain": [
       "      Artist Genre Performance Name     Performance Date  \\\n",
       "25  Imaginix   Pop          Imagine  2025-07-04 21:00:00   \n",
       "26    Nirvex  Rock          Nirvana  2025-07-05 21:30:00   \n",
       "27  Imaginix   Pop          Imagine  2025-07-04 21:00:00   \n",
       "28  Adelaire   Pop            Adele  2025-06-19 20:30:00   \n",
       "29       ABX   Pop             ABBA  2025-06-18 20:30:00   \n",
       "\n",
       "    Official Ticket Price  \n",
       "25                    300  \n",
       "26                   1800  \n",
       "27                    750  \n",
       "28                   1500  \n",
       "29                   2000  "
      ]
     },
     "execution_count": 56,
     "metadata": {},
     "output_type": "execute_result"
    }
   ],
   "source": [
    "df['Official Ticket Price'] = table_df_dict['ticket'].merge(\n",
    "    table_df_dict['ticketpricing'][['idPerformance', 'Type', 'price']],\n",
    "    left_on=['idPerformance', 'type'],\n",
    "    right_on=['idPerformance', 'Type'],\n",
    "    how='left'\n",
    ")['price']\n",
    "\n",
    "df.tail()"
   ]
  }
 ],
 "metadata": {
  "kernelspec": {
   "display_name": ".venv",
   "language": "python",
   "name": "python3"
  },
  "language_info": {
   "codemirror_mode": {
    "name": "ipython",
    "version": 3
   },
   "file_extension": ".py",
   "mimetype": "text/x-python",
   "name": "python",
   "nbconvert_exporter": "python",
   "pygments_lexer": "ipython3",
   "version": "3.8.2"
  }
 },
 "nbformat": 4,
 "nbformat_minor": 5
}
