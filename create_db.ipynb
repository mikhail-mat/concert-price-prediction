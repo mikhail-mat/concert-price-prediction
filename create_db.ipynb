{
 "cells": [
  {
   "cell_type": "code",
   "execution_count": 33,
   "id": "640f2b2d",
   "metadata": {},
   "outputs": [],
   "source": [
    "import sqlite3"
   ]
  },
  {
   "cell_type": "code",
   "execution_count": 34,
   "id": "002ab267",
   "metadata": {},
   "outputs": [],
   "source": [
    "db_path = 'concerts.db'\n",
    "conn = sqlite3.connect(db_path)"
   ]
  },
  {
   "cell_type": "code",
   "execution_count": 35,
   "id": "938887bd",
   "metadata": {},
   "outputs": [],
   "source": [
    "import pandas as pd"
   ]
  },
  {
   "cell_type": "code",
   "execution_count": 36,
   "id": "b46d51c9",
   "metadata": {},
   "outputs": [],
   "source": [
    "db_table_names = ('artist', 'customer', 'genre', 'performance', 'ticket', 'ticketpricing')\n",
    "table_df_dict = dict()\n",
    "\n",
    "for table_name in db_table_names:\n",
    "    table_df_dict[table_name] = pd.read_sql_query(f'SELECT * FROM {table_name}', conn)"
   ]
  },
  {
   "cell_type": "code",
   "execution_count": 37,
   "id": "cd9b283f",
   "metadata": {},
   "outputs": [],
   "source": [
    "for table in table_df_dict:\n",
    "    # print(table_df_dict[table].head())\n",
    "    # print(f'{table} table shape is {table_df_dict[table].shape}')\n",
    "    pass\n",
    "\n",
    "# print(table_df_dict['ticket'].head())\n",
    "# print(table_df_dict['ticketpricing'].head())\n",
    "\n",
    "relevant_columns = ['artist name', 'genreName', 'performance name', \n",
    "                    'date?', 'ticket type', 'ticketPrice', 'ticketpricing type',\n",
    "                    'ticketpricing price']\n",
    "# genreName can be matched to one entry using idGenre\n",
    "# performance name and date can be matched to one entry via idArtist\n",
    "# ticket type, ticketPrice can be matched to one entry via idPerformance\n",
    "# ticketpricing type, ticketpricing price can be matched to one entry via idPerformance\n",
    "# can deduce the price of the ticket as it was intended from ticketpricing\n"
   ]
  },
  {
   "cell_type": "code",
   "execution_count": 38,
   "id": "b7de0e8c",
   "metadata": {},
   "outputs": [],
   "source": [
    "df = pd.DataFrame()\n",
    "\n",
    "df['Ticket Price'] = table_df_dict['ticket']['ticketPrice']\n",
    "df['Ticket Category'] = table_df_dict['ticket']['type']"
   ]
  },
  {
   "cell_type": "code",
   "execution_count": 39,
   "id": "76218d18",
   "metadata": {},
   "outputs": [
    {
     "data": {
      "text/html": [
       "<div>\n",
       "<style scoped>\n",
       "    .dataframe tbody tr th:only-of-type {\n",
       "        vertical-align: middle;\n",
       "    }\n",
       "\n",
       "    .dataframe tbody tr th {\n",
       "        vertical-align: top;\n",
       "    }\n",
       "\n",
       "    .dataframe thead th {\n",
       "        text-align: right;\n",
       "    }\n",
       "</style>\n",
       "<table border=\"1\" class=\"dataframe\">\n",
       "  <thead>\n",
       "    <tr style=\"text-align: right;\">\n",
       "      <th></th>\n",
       "      <th>Ticket Price</th>\n",
       "      <th>Ticket Category</th>\n",
       "      <th>Performance</th>\n",
       "    </tr>\n",
       "  </thead>\n",
       "  <tbody>\n",
       "    <tr>\n",
       "      <th>25</th>\n",
       "      <td>300</td>\n",
       "      <td>D</td>\n",
       "      <td>Imaginix</td>\n",
       "    </tr>\n",
       "    <tr>\n",
       "      <th>26</th>\n",
       "      <td>1800</td>\n",
       "      <td>B</td>\n",
       "      <td>Nirvex</td>\n",
       "    </tr>\n",
       "    <tr>\n",
       "      <th>27</th>\n",
       "      <td>750</td>\n",
       "      <td>B</td>\n",
       "      <td>Imaginix</td>\n",
       "    </tr>\n",
       "    <tr>\n",
       "      <th>28</th>\n",
       "      <td>1500</td>\n",
       "      <td>A</td>\n",
       "      <td>Adelaire</td>\n",
       "    </tr>\n",
       "    <tr>\n",
       "      <th>29</th>\n",
       "      <td>0</td>\n",
       "      <td>A</td>\n",
       "      <td>ABX</td>\n",
       "    </tr>\n",
       "  </tbody>\n",
       "</table>\n",
       "</div>"
      ],
      "text/plain": [
       "    Ticket Price Ticket Category Performance\n",
       "25           300               D    Imaginix\n",
       "26          1800               B      Nirvex\n",
       "27           750               B    Imaginix\n",
       "28          1500               A    Adelaire\n",
       "29             0               A         ABX"
      ]
     },
     "execution_count": 39,
     "metadata": {},
     "output_type": "execute_result"
    }
   ],
   "source": [
    "# assign a performance to each ticket using idPerformance\n",
    "\n",
    "# approach 1: merge\n",
    "# df['Performance'] = table_df_dict['ticket'].merge(\n",
    "#     table_df_dict['performance'][['idPerformance', 'name']],\n",
    "#     on='idPerformance',\n",
    "#     how='left'\n",
    "# )['name']\n",
    "\n",
    "# approach 2: map\n",
    "# create a mapping from idPerformance to name\n",
    "performance_map = table_df_dict['performance'].set_index('idPerformance')['name']\n",
    "# use map to add the Performance column\n",
    "df['Performance'] = table_df_dict['ticket']['idPerformance'].map(performance_map)\n",
    "\n",
    "df.tail()"
   ]
  }
 ],
 "metadata": {
  "kernelspec": {
   "display_name": ".venv",
   "language": "python",
   "name": "python3"
  },
  "language_info": {
   "codemirror_mode": {
    "name": "ipython",
    "version": 3
   },
   "file_extension": ".py",
   "mimetype": "text/x-python",
   "name": "python",
   "nbconvert_exporter": "python",
   "pygments_lexer": "ipython3",
   "version": "3.8.2"
  }
 },
 "nbformat": 4,
 "nbformat_minor": 5
}
