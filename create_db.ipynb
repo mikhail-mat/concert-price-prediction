{
 "cells": [
  {
   "cell_type": "code",
   "execution_count": 2,
   "id": "640f2b2d",
   "metadata": {},
   "outputs": [],
   "source": [
    "import sqlite3"
   ]
  },
  {
   "cell_type": "code",
   "execution_count": 11,
   "id": "002ab267",
   "metadata": {},
   "outputs": [],
   "source": [
    "db_path = 'concerts.db'\n",
    "conn = sqlite3.connect(db_path)"
   ]
  },
  {
   "cell_type": "code",
   "execution_count": 12,
   "id": "938887bd",
   "metadata": {},
   "outputs": [],
   "source": [
    "import pandas as pd"
   ]
  },
  {
   "cell_type": "code",
   "execution_count": 14,
   "id": "b46d51c9",
   "metadata": {},
   "outputs": [
    {
     "name": "stdout",
     "output_type": "stream",
     "text": [
      "   idArtist      name  idGenre  performanceFee\n",
      "0         5     Queen        1          850000\n",
      "1         6  Coldplay        1         1000000\n",
      "2         7   Nirvana        1          750000\n",
      "3         8  Paramore        1          600000\n",
      "4         9      ABBA        2         1200000\n",
      "   idCustomer     name familyName                   email          phone\n",
      "0           1    Emily    Johnson  emily.johnson@mail.com  +912211132569\n",
      "1           2  Michael      Brown  michael.brown@mail.com  +914566077297\n",
      "2           3    Sarah      Davis    sarah.davis@mail.com  +911305381333\n",
      "3           4    James     Wilson   james.wilson@mail.com  +618712768650\n",
      "4           5     Emma     Taylor    emma.taylor@mail.com  +335119939673\n",
      "   idGenre   genreName                                        description\n",
      "0        1        Rock  High-energy music characterized by electric gu...\n",
      "1        2         Pop  Catchy, mainstream music with a focus on melod...\n",
      "2        3        Jazz  Improvisational music with rich harmonies, swi...\n",
      "3        4  Electronic  Synthesized beats and soundscapes, often creat...\n",
      "4        5     Country  Acoustic and lyrical music reflecting rural li...\n",
      "   idPerformance       name  idArtist                 date\n",
      "0              1        ABX         9  2025-06-18 20:30:00\n",
      "1              2   Adelaire        10  2025-06-19 20:30:00\n",
      "2              3  BamaBeats        26  2025-06-20 20:30:00\n",
      "3              4  ChillSync         6  2025-06-21 20:30:00\n",
      "4              5   Distorto        21  2025-06-25 21:30:00\n",
      "   idTicket  idPerformance type  ticketPrice  idCustomer\n",
      "0        58              1    A         2000           1\n",
      "1        59              2    C          900           2\n",
      "2        60              3    D          200           3\n",
      "3        61              4    B         1000           4\n",
      "4        62              5    A          900           5\n",
      "   idTicketPricing  idPerformance Type  price\n",
      "0               81              1    A   2000\n",
      "1               82              1    B   1500\n",
      "2               83              1    C   1200\n",
      "3               84              1    D    800\n",
      "4               85              2    A   1500\n"
     ]
    }
   ],
   "source": [
    "db_table_names = ('artist', 'customer', 'genre', 'performance', 'ticket', 'ticketpricing')\n",
    "table_df_dict = dict()\n",
    "\n",
    "for table_name in db_table_names:\n",
    "    table_df_dict[table_name] = pd.read_sql_query(f'SELECT * FROM {table_name}', conn)\n",
    "\n",
    "for table in table_df_dict:\n",
    "    print(table_df_dict[table].head())"
   ]
  },
  {
   "cell_type": "code",
   "execution_count": null,
   "id": "2fc53ef3",
   "metadata": {},
   "outputs": [],
   "source": []
  }
 ],
 "metadata": {
  "kernelspec": {
   "display_name": ".venv",
   "language": "python",
   "name": "python3"
  },
  "language_info": {
   "codemirror_mode": {
    "name": "ipython",
    "version": 3
   },
   "file_extension": ".py",
   "mimetype": "text/x-python",
   "name": "python",
   "nbconvert_exporter": "python",
   "pygments_lexer": "ipython3",
   "version": "3.8.2"
  }
 },
 "nbformat": 4,
 "nbformat_minor": 5
}
