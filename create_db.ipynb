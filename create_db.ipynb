{
 "cells": [
  {
   "cell_type": "code",
   "execution_count": 78,
   "id": "640f2b2d",
   "metadata": {},
   "outputs": [],
   "source": [
    "import sqlite3\n",
    "import pandas as pd\n",
    "import matplotlib.pyplot as plt\n",
    "import numpy as np"
   ]
  },
  {
   "cell_type": "code",
   "execution_count": 60,
   "id": "002ab267",
   "metadata": {},
   "outputs": [],
   "source": [
    "db_path = 'concerts.db'\n",
    "conn = sqlite3.connect(db_path)"
   ]
  },
  {
   "cell_type": "code",
   "execution_count": 62,
   "id": "b46d51c9",
   "metadata": {},
   "outputs": [],
   "source": [
    "db_table_names = ('artist', 'customer', 'genre', 'performance', 'ticket', 'ticketpricing')\n",
    "table_df_dict = dict()\n",
    "\n",
    "for table_name in db_table_names:\n",
    "    table_df_dict[table_name] = pd.read_sql_query(f'SELECT * FROM {table_name}', conn)"
   ]
  },
  {
   "cell_type": "code",
   "execution_count": 63,
   "id": "b7de0e8c",
   "metadata": {},
   "outputs": [],
   "source": [
    "df = pd.DataFrame()"
   ]
  },
  {
   "cell_type": "code",
   "execution_count": 64,
   "id": "fcb5895d",
   "metadata": {},
   "outputs": [],
   "source": [
    "def populate_with_data(df):\n",
    "    df['Ticket Price'] = table_df_dict['ticket']['ticketPrice']\n",
    "    df['Ticket Category'] = table_df_dict['ticket']['type']\n",
    "\n",
    "    merged_df = pd.merge(table_df_dict['artist'], table_df_dict['genre'], on='idGenre', how='left')\n",
    "    merged_df = pd.merge(table_df_dict['performance'], merged_df, on='idArtist', how='left')\n",
    "    merged_df = pd.merge(table_df_dict['ticket'], merged_df, on='idPerformance', how='left')\n",
    "\n",
    "    df['Artist'] = merged_df['name_x']\n",
    "    df['Genre'] = merged_df['genreName']\n",
    "    df['Performance Name'] = merged_df['name_y']\n",
    "    df['Performance Date'] = merged_df['date']\n",
    "\n",
    "    df['Official Ticket Price'] = table_df_dict['ticket'].merge(\n",
    "        table_df_dict['ticketpricing'][['idPerformance', 'Type', 'price']],\n",
    "        left_on=['idPerformance', 'type'],\n",
    "        right_on=['idPerformance', 'Type'],\n",
    "        how='left'\n",
    "    )['price']"
   ]
  },
  {
   "cell_type": "code",
   "execution_count": 65,
   "id": "19c0f47a",
   "metadata": {},
   "outputs": [],
   "source": [
    "populate_with_data(df)"
   ]
  },
  {
   "cell_type": "code",
   "execution_count": 77,
   "id": "4a32b2a8",
   "metadata": {},
   "outputs": [
    {
     "data": {
      "text/html": [
       "<div>\n",
       "<style scoped>\n",
       "    .dataframe tbody tr th:only-of-type {\n",
       "        vertical-align: middle;\n",
       "    }\n",
       "\n",
       "    .dataframe tbody tr th {\n",
       "        vertical-align: top;\n",
       "    }\n",
       "\n",
       "    .dataframe thead th {\n",
       "        text-align: right;\n",
       "    }\n",
       "</style>\n",
       "<table border=\"1\" class=\"dataframe\">\n",
       "  <thead>\n",
       "    <tr style=\"text-align: right;\">\n",
       "      <th></th>\n",
       "      <th>Ticket Price</th>\n",
       "      <th>Ticket Category</th>\n",
       "      <th>Artist</th>\n",
       "      <th>Genre</th>\n",
       "      <th>Performance Name</th>\n",
       "      <th>Performance Date</th>\n",
       "      <th>Official Ticket Price</th>\n",
       "    </tr>\n",
       "  </thead>\n",
       "  <tbody>\n",
       "    <tr>\n",
       "      <th>0</th>\n",
       "      <td>2000</td>\n",
       "      <td>A</td>\n",
       "      <td>ABX</td>\n",
       "      <td>Pop</td>\n",
       "      <td>ABBA</td>\n",
       "      <td>2025-06-18 20:30:00</td>\n",
       "      <td>2000</td>\n",
       "    </tr>\n",
       "    <tr>\n",
       "      <th>1</th>\n",
       "      <td>900</td>\n",
       "      <td>C</td>\n",
       "      <td>Adelaire</td>\n",
       "      <td>Pop</td>\n",
       "      <td>Adele</td>\n",
       "      <td>2025-06-19 20:30:00</td>\n",
       "      <td>900</td>\n",
       "    </tr>\n",
       "    <tr>\n",
       "      <th>2</th>\n",
       "      <td>200</td>\n",
       "      <td>D</td>\n",
       "      <td>BamaBeats</td>\n",
       "      <td>Country</td>\n",
       "      <td>Alabama</td>\n",
       "      <td>2025-06-20 20:30:00</td>\n",
       "      <td>200</td>\n",
       "    </tr>\n",
       "    <tr>\n",
       "      <th>3</th>\n",
       "      <td>1000</td>\n",
       "      <td>B</td>\n",
       "      <td>ChillSync</td>\n",
       "      <td>Rock</td>\n",
       "      <td>Coldplay</td>\n",
       "      <td>2025-06-21 20:30:00</td>\n",
       "      <td>1000</td>\n",
       "    </tr>\n",
       "    <tr>\n",
       "      <th>4</th>\n",
       "      <td>900</td>\n",
       "      <td>A</td>\n",
       "      <td>Distorto</td>\n",
       "      <td>Metal</td>\n",
       "      <td>Disturbed</td>\n",
       "      <td>2025-06-25 21:30:00</td>\n",
       "      <td>900</td>\n",
       "    </tr>\n",
       "  </tbody>\n",
       "</table>\n",
       "</div>"
      ],
      "text/plain": [
       "   Ticket Price Ticket Category     Artist    Genre Performance Name  \\\n",
       "0          2000               A        ABX      Pop             ABBA   \n",
       "1           900               C   Adelaire      Pop            Adele   \n",
       "2           200               D  BamaBeats  Country          Alabama   \n",
       "3          1000               B  ChillSync     Rock         Coldplay   \n",
       "4           900               A   Distorto    Metal        Disturbed   \n",
       "\n",
       "      Performance Date  Official Ticket Price  \n",
       "0  2025-06-18 20:30:00                   2000  \n",
       "1  2025-06-19 20:30:00                    900  \n",
       "2  2025-06-20 20:30:00                    200  \n",
       "3  2025-06-21 20:30:00                   1000  \n",
       "4  2025-06-25 21:30:00                    900  "
      ]
     },
     "execution_count": 77,
     "metadata": {},
     "output_type": "execute_result"
    }
   ],
   "source": [
    "df.head()"
   ]
  },
  {
   "cell_type": "code",
   "execution_count": 71,
   "id": "0230d55e",
   "metadata": {},
   "outputs": [],
   "source": [
    "X_train = df.drop('Ticket Price', axis=1).iloc[0:24]\n",
    "X_test = df.drop('Ticket Price', axis=1).iloc[24:30]\n",
    "y_train = df['Ticket Price'].iloc[0:24]\n",
    "y_test = df['Ticket Price'].iloc[24:30]"
   ]
  }
 ],
 "metadata": {
  "kernelspec": {
   "display_name": ".venv",
   "language": "python",
   "name": "python3"
  },
  "language_info": {
   "codemirror_mode": {
    "name": "ipython",
    "version": 3
   },
   "file_extension": ".py",
   "mimetype": "text/x-python",
   "name": "python",
   "nbconvert_exporter": "python",
   "pygments_lexer": "ipython3",
   "version": "3.8.2"
  }
 },
 "nbformat": 4,
 "nbformat_minor": 5
}
